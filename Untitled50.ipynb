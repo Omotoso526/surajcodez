{
  "nbformat": 4,
  "nbformat_minor": 0,
  "metadata": {
    "colab": {
      "provenance": [],
      "authorship_tag": "ABX9TyNJpG5QT/g/r8FxZf5ARIys",
      "include_colab_link": true
    },
    "kernelspec": {
      "name": "python3",
      "display_name": "Python 3"
    },
    "language_info": {
      "name": "python"
    }
  },
  "cells": [
    {
      "cell_type": "markdown",
      "metadata": {
        "id": "view-in-github",
        "colab_type": "text"
      },
      "source": [
        "<a href=\"https://colab.research.google.com/github/Omotoso526/surajcodez/blob/main/Untitled50.ipynb\" target=\"_parent\"><img src=\"https://colab.research.google.com/assets/colab-badge.svg\" alt=\"Open In Colab\"/></a>"
      ]
    },
    {
      "cell_type": "code",
      "execution_count": 2,
      "metadata": {
        "colab": {
          "base_uri": "https://localhost:8080/"
        },
        "id": "UkMmy1zxTxEs",
        "outputId": "28c06eaa-ba03-4fd6-e3f7-91264d6e8a12"
      },
      "outputs": [
        {
          "output_type": "stream",
          "name": "stdout",
          "text": [
            "1\n",
            "2\n",
            "3\n",
            "4\n"
          ]
        }
      ],
      "source": [
        "x = 1\n",
        "\n",
        "while x < 10:\n",
        "  if x == 5:\n",
        "    break\n",
        "  print(x)\n",
        "  x+=1"
      ]
    },
    {
      "cell_type": "code",
      "source": [
        "#functions\n",
        "def hello_func():\n",
        "  print(\"hello world\")\n",
        "\n",
        "for _ in range(4): # Loop 4 times\n",
        "  hello_func()     # Call the function in each iteration"
      ],
      "metadata": {
        "colab": {
          "base_uri": "https://localhost:8080/"
        },
        "id": "nhKt7w5iUPMa",
        "outputId": "af29e847-0443-4d09-e9f3-e9f93a181e64"
      },
      "execution_count": 6,
      "outputs": [
        {
          "output_type": "stream",
          "name": "stdout",
          "text": [
            "hello world\n",
            "hello world\n",
            "hello world\n",
            "hello world\n"
          ]
        }
      ]
    },
    {
      "cell_type": "code",
      "source": [
        "def hello_func():\n",
        "  return \"Hello\"\n",
        "\n",
        "print(hello_func())"
      ],
      "metadata": {
        "colab": {
          "base_uri": "https://localhost:8080/"
        },
        "id": "YroPNN0oV_yH",
        "outputId": "7951ff54-32a1-4216-f6c1-c6654f444460"
      },
      "execution_count": 9,
      "outputs": [
        {
          "output_type": "stream",
          "name": "stdout",
          "text": [
            "Hello\n"
          ]
        }
      ]
    },
    {
      "cell_type": "code",
      "source": [
        "def hello_func(greeting, name = \"iwo\"):\n",
        "  return f'{greeting} {name}'\n",
        "\n",
        "print(hello_func(\"Hi\"))"
      ],
      "metadata": {
        "colab": {
          "base_uri": "https://localhost:8080/"
        },
        "id": "pkYIjB-AYA5M",
        "outputId": "73fccd93-a12d-4d0f-a208-9a98ae68f7b1"
      },
      "execution_count": 13,
      "outputs": [
        {
          "output_type": "stream",
          "name": "stdout",
          "text": [
            "Hi iwo\n"
          ]
        }
      ]
    },
    {
      "cell_type": "code",
      "source": [
        "def student_info(*args, **kwargs):\n",
        "  print(args)\n",
        "  print(kwargs)\n",
        "\n",
        "courses = ['Math', 'Art']\n",
        "info = {'name': 'mosun', 'age': 24}\n",
        "\n",
        "student_info(*courses, **info)\n"
      ],
      "metadata": {
        "colab": {
          "base_uri": "https://localhost:8080/"
        },
        "id": "cqsFu5C4ajuZ",
        "outputId": "43927c5a-72dd-4ec3-a341-26d8df3454e6"
      },
      "execution_count": 14,
      "outputs": [
        {
          "output_type": "stream",
          "name": "stdout",
          "text": [
            "('Math', 'Art')\n",
            "{'name': 'mosun', 'age': 24}\n"
          ]
        }
      ]
    },
    {
      "cell_type": "code",
      "source": [
        "month_day = [0, 31, 28, 31, 30, 31, 30, 31, 31, 30, 31, 30, 31]\n",
        "\n",
        "def is_leap(year):\n",
        "\n",
        "  return year % 4 == 0 and (year % 100 != 0 or year % 400 == 0)\n",
        "\n",
        "def days_in_month(year, month):\n",
        "  if not 1 <= month <= 12:\n",
        "    return 'Invalid Month'\n",
        "\n",
        "  if month == 2 and is_leap(year):\n",
        "    return 29\n",
        "\n",
        "  return month_day[month]"
      ],
      "metadata": {
        "id": "jEEsAU8xc62l"
      },
      "execution_count": 15,
      "outputs": []
    },
    {
      "cell_type": "code",
      "source": [
        "print(days_in_month(2019, 4))"
      ],
      "metadata": {
        "colab": {
          "base_uri": "https://localhost:8080/"
        },
        "id": "PZz5Fr5Bfe0x",
        "outputId": "5cbe07cb-d459-4a1e-d817-130ee5c25485"
      },
      "execution_count": 17,
      "outputs": [
        {
          "output_type": "stream",
          "name": "stdout",
          "text": [
            "30\n"
          ]
        }
      ]
    },
    {
      "cell_type": "code",
      "source": [],
      "metadata": {
        "id": "6S2DeyJ5fl8i"
      },
      "execution_count": null,
      "outputs": []
    }
  ]
}