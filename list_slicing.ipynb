{
  "nbformat": 4,
  "nbformat_minor": 0,
  "metadata": {
    "colab": {
      "provenance": [],
      "authorship_tag": "ABX9TyM9Uq4EWQFNAD6mufZ5nv/X",
      "include_colab_link": true
    },
    "kernelspec": {
      "name": "python3",
      "display_name": "Python 3"
    },
    "language_info": {
      "name": "python"
    }
  },
  "cells": [
    {
      "cell_type": "markdown",
      "metadata": {
        "id": "view-in-github",
        "colab_type": "text"
      },
      "source": [
        "<a href=\"https://colab.research.google.com/github/Omotoso526/surajcodez/blob/main/list_slicing.ipynb\" target=\"_parent\"><img src=\"https://colab.research.google.com/assets/colab-badge.svg\" alt=\"Open In Colab\"/></a>"
      ]
    },
    {
      "cell_type": "code",
      "execution_count": 1,
      "metadata": {
        "colab": {
          "base_uri": "https://localhost:8080/"
        },
        "id": "qxaX-27itDi8",
        "outputId": "d9e63e19-e3ca-4ac3-92f0-d25fe1c6f98f"
      },
      "outputs": [
        {
          "output_type": "execute_result",
          "data": {
            "text/plain": [
              "0"
            ]
          },
          "metadata": {},
          "execution_count": 1
        }
      ],
      "source": [
        "#slicing lists and strings\n",
        "\n",
        "my_list = [0,1,2,3,4,5,6,7,8,9]\n",
        "my_list[0]"
      ]
    },
    {
      "cell_type": "code",
      "source": [
        "my_list[0:6]"
      ],
      "metadata": {
        "colab": {
          "base_uri": "https://localhost:8080/"
        },
        "id": "U1J5r8H4tcIp",
        "outputId": "b9a7fd9e-6adc-4eca-8bd6-da87e769b518"
      },
      "execution_count": 2,
      "outputs": [
        {
          "output_type": "execute_result",
          "data": {
            "text/plain": [
              "[0, 1, 2, 3, 4, 5]"
            ]
          },
          "metadata": {},
          "execution_count": 2
        }
      ]
    },
    {
      "cell_type": "code",
      "source": [
        "my_list"
      ],
      "metadata": {
        "colab": {
          "base_uri": "https://localhost:8080/"
        },
        "id": "rRYAMjf_trtI",
        "outputId": "04e3dbfe-a746-4b02-80fd-47487b037718"
      },
      "execution_count": 3,
      "outputs": [
        {
          "output_type": "execute_result",
          "data": {
            "text/plain": [
              "[0, 1, 2, 3, 4, 5, 6, 7, 8, 9]"
            ]
          },
          "metadata": {},
          "execution_count": 3
        }
      ]
    },
    {
      "cell_type": "code",
      "source": [
        "my_list[1:]"
      ],
      "metadata": {
        "colab": {
          "base_uri": "https://localhost:8080/"
        },
        "id": "n21SoNjetvYq",
        "outputId": "3141c3b6-e8a9-46fb-a0cd-7028d6ee4f30"
      },
      "execution_count": 4,
      "outputs": [
        {
          "output_type": "execute_result",
          "data": {
            "text/plain": [
              "[1, 2, 3, 4, 5, 6, 7, 8, 9]"
            ]
          },
          "metadata": {},
          "execution_count": 4
        }
      ]
    },
    {
      "cell_type": "code",
      "source": [
        "my_list[-1:2:-2]"
      ],
      "metadata": {
        "colab": {
          "base_uri": "https://localhost:8080/"
        },
        "id": "ySGkMxtauHhI",
        "outputId": "a0d75147-5588-43b5-fa9c-ebf380a64d4e"
      },
      "execution_count": 8,
      "outputs": [
        {
          "output_type": "execute_result",
          "data": {
            "text/plain": [
              "[9, 7, 5, 3]"
            ]
          },
          "metadata": {},
          "execution_count": 8
        }
      ]
    },
    {
      "cell_type": "code",
      "source": [
        "my_list[::2]"
      ],
      "metadata": {
        "colab": {
          "base_uri": "https://localhost:8080/"
        },
        "id": "IN1DrTPFuaAb",
        "outputId": "8e1502ae-1499-491c-a553-eecb25dea064"
      },
      "execution_count": 9,
      "outputs": [
        {
          "output_type": "execute_result",
          "data": {
            "text/plain": [
              "[0, 2, 4, 6, 8]"
            ]
          },
          "metadata": {},
          "execution_count": 9
        }
      ]
    },
    {
      "cell_type": "code",
      "source": [
        "url = 'surajm.com'\n",
        "url[::-1]"
      ],
      "metadata": {
        "colab": {
          "base_uri": "https://localhost:8080/",
          "height": 35
        },
        "id": "NUiazeUSvBQX",
        "outputId": "5ee4816e-da0d-43bd-f515-789343d48826"
      },
      "execution_count": 10,
      "outputs": [
        {
          "output_type": "execute_result",
          "data": {
            "text/plain": [
              "'moc.mjarus'"
            ],
            "application/vnd.google.colaboratory.intrinsic+json": {
              "type": "string"
            }
          },
          "metadata": {},
          "execution_count": 10
        }
      ]
    },
    {
      "cell_type": "code",
      "source": [
        "nums = [1,2,3,4,5,6,7,8.9]\n",
        "\n",
        "my_list= []\n",
        "for n in nums:\n",
        "  my_list.append(n)\n",
        "my_list"
      ],
      "metadata": {
        "colab": {
          "base_uri": "https://localhost:8080/"
        },
        "id": "aSDrZ6zKvgNL",
        "outputId": "96bdcd53-dd89-4e44-fc5b-c532e428e2a5"
      },
      "execution_count": 11,
      "outputs": [
        {
          "output_type": "execute_result",
          "data": {
            "text/plain": [
              "[1, 2, 3, 4, 5, 6, 7, 8.9]"
            ]
          },
          "metadata": {},
          "execution_count": 11
        }
      ]
    },
    {
      "cell_type": "code",
      "source": [
        "my_guy = []\n",
        "for n in nums:\n",
        "  my_guy.append(n*n)\n",
        "my_guy"
      ],
      "metadata": {
        "colab": {
          "base_uri": "https://localhost:8080/"
        },
        "id": "PptrIG0awdqo",
        "outputId": "a7878c57-feed-4895-a0ef-63098352b8fe"
      },
      "execution_count": 12,
      "outputs": [
        {
          "output_type": "execute_result",
          "data": {
            "text/plain": [
              "[1, 4, 9, 16, 25, 36, 49, 79.21000000000001]"
            ]
          },
          "metadata": {},
          "execution_count": 12
        }
      ]
    },
    {
      "cell_type": "code",
      "source": [
        "my_guy = [n*n for n in nums]\n",
        "my_guy"
      ],
      "metadata": {
        "colab": {
          "base_uri": "https://localhost:8080/"
        },
        "id": "D5nv4o3ww1yv",
        "outputId": "22dc1f11-e14e-4872-a481-85acf8465a67"
      },
      "execution_count": 13,
      "outputs": [
        {
          "output_type": "execute_result",
          "data": {
            "text/plain": [
              "[1, 4, 9, 16, 25, 36, 49, 79.21000000000001]"
            ]
          },
          "metadata": {},
          "execution_count": 13
        }
      ]
    },
    {
      "cell_type": "code",
      "source": [
        "my_rt = map(lambda n: n*n, nums)\n",
        "list(my_rt)"
      ],
      "metadata": {
        "colab": {
          "base_uri": "https://localhost:8080/"
        },
        "id": "7cOSUXbXxrwe",
        "outputId": "d0f261d8-388f-4123-e7bd-82aaf85428b4"
      },
      "execution_count": 15,
      "outputs": [
        {
          "output_type": "execute_result",
          "data": {
            "text/plain": [
              "[1, 4, 9, 16, 25, 36, 49, 79.21000000000001]"
            ]
          },
          "metadata": {},
          "execution_count": 15
        }
      ]
    },
    {
      "cell_type": "code",
      "source": [
        "my_t = []\n",
        "for n in nums:\n",
        "  if n % 2 == 0:\n",
        "    my_t.append(n)\n",
        "my_t"
      ],
      "metadata": {
        "colab": {
          "base_uri": "https://localhost:8080/"
        },
        "id": "TgD0auzmx18W",
        "outputId": "e81840c6-ddc3-44e4-a6e6-dbb063f1b76a"
      },
      "execution_count": 16,
      "outputs": [
        {
          "output_type": "execute_result",
          "data": {
            "text/plain": [
              "[2, 4, 6]"
            ]
          },
          "metadata": {},
          "execution_count": 16
        }
      ]
    },
    {
      "cell_type": "code",
      "source": [
        "my_t = [n for n in nums if n%2 ==0]\n",
        "my_t"
      ],
      "metadata": {
        "colab": {
          "base_uri": "https://localhost:8080/"
        },
        "id": "3TUooLR_zG5G",
        "outputId": "c6caba25-f781-4aa7-b2f5-f7934ddb24ff"
      },
      "execution_count": 18,
      "outputs": [
        {
          "output_type": "execute_result",
          "data": {
            "text/plain": [
              "[2, 4, 6]"
            ]
          },
          "metadata": {},
          "execution_count": 18
        }
      ]
    },
    {
      "cell_type": "code",
      "source": [
        "y = filter(lambda n:n %2 == 0, nums)\n",
        "list(y)"
      ],
      "metadata": {
        "colab": {
          "base_uri": "https://localhost:8080/"
        },
        "id": "zKx_mSBczUkM",
        "outputId": "5d2e492f-1005-4a01-e249-237a1c3e6850"
      },
      "execution_count": 20,
      "outputs": [
        {
          "output_type": "execute_result",
          "data": {
            "text/plain": [
              "[2, 4, 6]"
            ]
          },
          "metadata": {},
          "execution_count": 20
        }
      ]
    },
    {
      "cell_type": "code",
      "source": [
        "my_list = []\n",
        "for letter in 'abcd':\n",
        "  for num in range(4):\n",
        "    my_list.append((letter,num))\n",
        "my_list"
      ],
      "metadata": {
        "colab": {
          "base_uri": "https://localhost:8080/"
        },
        "id": "54-LSw9nzuvU",
        "outputId": "c96ba6fe-5dba-4d21-d77a-abcdb19fc053"
      },
      "execution_count": 21,
      "outputs": [
        {
          "output_type": "execute_result",
          "data": {
            "text/plain": [
              "[('a', 0),\n",
              " ('a', 1),\n",
              " ('a', 2),\n",
              " ('a', 3),\n",
              " ('b', 0),\n",
              " ('b', 1),\n",
              " ('b', 2),\n",
              " ('b', 3),\n",
              " ('c', 0),\n",
              " ('c', 1),\n",
              " ('c', 2),\n",
              " ('c', 3),\n",
              " ('d', 0),\n",
              " ('d', 1),\n",
              " ('d', 2),\n",
              " ('d', 3)]"
            ]
          },
          "metadata": {},
          "execution_count": 21
        }
      ]
    },
    {
      "cell_type": "code",
      "source": [
        "#dictionary comprehension\n",
        "names = ['Bruce', 'clark', 'peter', 'james', 'ade']\n",
        "heros = ['Awolowo', 'Akintola', 'Adekanye', 'Adeleke']\n",
        "z = zip (names, heros)\n",
        "list(z)"
      ],
      "metadata": {
        "colab": {
          "base_uri": "https://localhost:8080/"
        },
        "id": "5GeJ-doiz_zz",
        "outputId": "dff320ac-722a-4d4f-b5b2-80d2151faf95"
      },
      "execution_count": 29,
      "outputs": [
        {
          "output_type": "execute_result",
          "data": {
            "text/plain": [
              "[('Bruce', 'Awolowo'),\n",
              " ('clark', 'Akintola'),\n",
              " ('peter', 'Adekanye'),\n",
              " ('james', 'Adeleke')]"
            ]
          },
          "metadata": {},
          "execution_count": 29
        }
      ]
    },
    {
      "cell_type": "code",
      "source": [
        "my_dict = {}\n",
        "for name, hero in zip (names, heros):\n",
        "  my_dict[name] = hero\n",
        "my_dict\n"
      ],
      "metadata": {
        "colab": {
          "base_uri": "https://localhost:8080/"
        },
        "id": "eGy9Q6gA0huY",
        "outputId": "0772ba68-3464-44f0-8d51-cc8f6d43f17e"
      },
      "execution_count": 31,
      "outputs": [
        {
          "output_type": "execute_result",
          "data": {
            "text/plain": [
              "{'Bruce': 'Awolowo',\n",
              " 'clark': 'Akintola',\n",
              " 'peter': 'Adekanye',\n",
              " 'james': 'Adeleke'}"
            ]
          },
          "metadata": {},
          "execution_count": 31
        }
      ]
    },
    {
      "cell_type": "code",
      "source": [
        "lis = [9,1,6,7,3,8,5,7]\n",
        "sorted(lis)"
      ],
      "metadata": {
        "colab": {
          "base_uri": "https://localhost:8080/"
        },
        "id": "jEGGjXx36-Sj",
        "outputId": "1d90d236-c8ef-4adb-fd48-731257c18ce4"
      },
      "execution_count": 6,
      "outputs": [
        {
          "output_type": "execute_result",
          "data": {
            "text/plain": [
              "[1, 3, 5, 6, 7, 7, 8, 9]"
            ]
          },
          "metadata": {},
          "execution_count": 6
        }
      ]
    },
    {
      "cell_type": "code",
      "source": [
        "class Employee():\n",
        "  def __init__(self, name, age, salary):\n",
        "    self.name = name\n",
        "    self.age = age\n",
        "    self.salary = salary\n",
        "\n",
        "  def __repr__(self):\n",
        "    return '({},{},${})'.format(self.name, self.age, self.salary)\n",
        "\n",
        "from operator import attrgetter\n",
        "\n",
        "e1 = Employee('Carl', 37, 70000)\n",
        "e2 = Employee('sarah', 28, 4499499)\n",
        "e3 = Employee('disko', 45, 57559859)\n",
        "\n",
        "employees = [e1,e2,e3]\n",
        "\n",
        "def e_sort(emp):\n",
        "  return emp.name\n",
        "\n",
        "s_employees = sorted(employees, key=attrgetter('age'), reverse=True)\n",
        "s_employees"
      ],
      "metadata": {
        "colab": {
          "base_uri": "https://localhost:8080/"
        },
        "id": "xc-7VAB0U4dm",
        "outputId": "575f6121-fa60-4be8-e238-f2bee8fd2105"
      },
      "execution_count": 8,
      "outputs": [
        {
          "output_type": "execute_result",
          "data": {
            "text/plain": [
              "[(disko,45,$57559859), (Carl,37,$70000), (sarah,28,$4499499)]"
            ]
          },
          "metadata": {},
          "execution_count": 8
        }
      ]
    },
    {
      "cell_type": "code",
      "source": [],
      "metadata": {
        "id": "HOSYZt17Vo-i"
      },
      "execution_count": 5,
      "outputs": []
    },
    {
      "cell_type": "code",
      "source": [],
      "metadata": {
        "id": "HhGnImAMVuJy"
      },
      "execution_count": null,
      "outputs": []
    }
  ]
}