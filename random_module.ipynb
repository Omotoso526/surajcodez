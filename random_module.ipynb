{
  "nbformat": 4,
  "nbformat_minor": 0,
  "metadata": {
    "colab": {
      "provenance": [],
      "authorship_tag": "ABX9TyOvptx5PRo9Ka4fQ1kH4RHU",
      "include_colab_link": true
    },
    "kernelspec": {
      "name": "python3",
      "display_name": "Python 3"
    },
    "language_info": {
      "name": "python"
    }
  },
  "cells": [
    {
      "cell_type": "markdown",
      "metadata": {
        "id": "view-in-github",
        "colab_type": "text"
      },
      "source": [
        "<a href=\"https://colab.research.google.com/github/Omotoso526/surajcodez/blob/main/random_module.ipynb\" target=\"_parent\"><img src=\"https://colab.research.google.com/assets/colab-badge.svg\" alt=\"Open In Colab\"/></a>"
      ]
    },
    {
      "cell_type": "code",
      "execution_count": 1,
      "metadata": {
        "id": "BCtnNaVkjpQ9"
      },
      "outputs": [],
      "source": [
        "import random"
      ]
    },
    {
      "cell_type": "code",
      "source": [
        "#random value betwwen 0 and 1\n",
        "value = random.random()\n",
        "value"
      ],
      "metadata": {
        "colab": {
          "base_uri": "https://localhost:8080/"
        },
        "id": "2V5bbCztkRgH",
        "outputId": "c11c118a-8318-4e58-b613-0703e544d4f2"
      },
      "execution_count": 3,
      "outputs": [
        {
          "output_type": "execute_result",
          "data": {
            "text/plain": [
              "0.207888436572362"
            ]
          },
          "metadata": {},
          "execution_count": 3
        }
      ]
    },
    {
      "cell_type": "code",
      "source": [
        "#random number between 1 and 10\n",
        "random.uniform(1,10)"
      ],
      "metadata": {
        "colab": {
          "base_uri": "https://localhost:8080/"
        },
        "id": "kVFM9Gcbkptp",
        "outputId": "a6499618-bb24-4ed6-e47d-d30e566db43d"
      },
      "execution_count": 5,
      "outputs": [
        {
          "output_type": "execute_result",
          "data": {
            "text/plain": [
              "9.10169479496065"
            ]
          },
          "metadata": {},
          "execution_count": 5
        }
      ]
    },
    {
      "cell_type": "code",
      "source": [
        "random.randint(1,5)"
      ],
      "metadata": {
        "colab": {
          "base_uri": "https://localhost:8080/"
        },
        "id": "IhmgCzYWkzFe",
        "outputId": "9ee2249f-b571-4b07-c302-2ca9c30dec62"
      },
      "execution_count": 7,
      "outputs": [
        {
          "output_type": "execute_result",
          "data": {
            "text/plain": [
              "2"
            ]
          },
          "metadata": {},
          "execution_count": 7
        }
      ]
    },
    {
      "cell_type": "code",
      "source": [
        "random.randint(0,1)"
      ],
      "metadata": {
        "colab": {
          "base_uri": "https://localhost:8080/"
        },
        "id": "BFzG-2q_k9fK",
        "outputId": "a0287165-d18d-45bf-a3d7-b082cd8ec24a"
      },
      "execution_count": 8,
      "outputs": [
        {
          "output_type": "execute_result",
          "data": {
            "text/plain": [
              "0"
            ]
          },
          "metadata": {},
          "execution_count": 8
        }
      ]
    },
    {
      "cell_type": "code",
      "source": [
        "greetings = ['Hello', 'Hi', 'Hey', 'Howdy', 'Hola']\n",
        "random.choice(greetings)"
      ],
      "metadata": {
        "colab": {
          "base_uri": "https://localhost:8080/",
          "height": 35
        },
        "id": "2XdHrnMulGBA",
        "outputId": "a9b55307-e8cc-4bc3-a1d9-6fc3d42f8ea8"
      },
      "execution_count": 12,
      "outputs": [
        {
          "output_type": "execute_result",
          "data": {
            "text/plain": [
              "'Hola'"
            ],
            "application/vnd.google.colaboratory.intrinsic+json": {
              "type": "string"
            }
          },
          "metadata": {},
          "execution_count": 12
        }
      ]
    },
    {
      "cell_type": "code",
      "source": [
        "colors = ['Red', 'Black', 'Green']\n",
        "choice = random.choices(colors, weights=[18,18,2], k=10)\n",
        "print(choice)"
      ],
      "metadata": {
        "colab": {
          "base_uri": "https://localhost:8080/"
        },
        "id": "LihHQUMGlPji",
        "outputId": "ab96e0d6-4d83-4335-ec3a-631bed75e17a"
      },
      "execution_count": 13,
      "outputs": [
        {
          "output_type": "stream",
          "name": "stdout",
          "text": [
            "['Black', 'Red', 'Red', 'Red', 'Red', 'Black', 'Black', 'Black', 'Red', 'Black']\n"
          ]
        }
      ]
    },
    {
      "cell_type": "code",
      "source": [
        "sb = list(range(1, 67))\n",
        "sb"
      ],
      "metadata": {
        "colab": {
          "base_uri": "https://localhost:8080/"
        },
        "id": "po1AaucOlmPk",
        "outputId": "3113892e-883d-4b03-9339-f276e9820ca5"
      },
      "execution_count": 15,
      "outputs": [
        {
          "output_type": "execute_result",
          "data": {
            "text/plain": [
              "[1,\n",
              " 2,\n",
              " 3,\n",
              " 4,\n",
              " 5,\n",
              " 6,\n",
              " 7,\n",
              " 8,\n",
              " 9,\n",
              " 10,\n",
              " 11,\n",
              " 12,\n",
              " 13,\n",
              " 14,\n",
              " 15,\n",
              " 16,\n",
              " 17,\n",
              " 18,\n",
              " 19,\n",
              " 20,\n",
              " 21,\n",
              " 22,\n",
              " 23,\n",
              " 24,\n",
              " 25,\n",
              " 26,\n",
              " 27,\n",
              " 28,\n",
              " 29,\n",
              " 30,\n",
              " 31,\n",
              " 32,\n",
              " 33,\n",
              " 34,\n",
              " 35,\n",
              " 36,\n",
              " 37,\n",
              " 38,\n",
              " 39,\n",
              " 40,\n",
              " 41,\n",
              " 42,\n",
              " 43,\n",
              " 44,\n",
              " 45,\n",
              " 46,\n",
              " 47,\n",
              " 48,\n",
              " 49,\n",
              " 50,\n",
              " 51,\n",
              " 52,\n",
              " 53,\n",
              " 54,\n",
              " 55,\n",
              " 56,\n",
              " 57,\n",
              " 58,\n",
              " 59,\n",
              " 60,\n",
              " 61,\n",
              " 62,\n",
              " 63,\n",
              " 64,\n",
              " 65,\n",
              " 66]"
            ]
          },
          "metadata": {},
          "execution_count": 15
        }
      ]
    },
    {
      "cell_type": "code",
      "source": [
        "random.shuffle(sb)\n",
        "sb"
      ],
      "metadata": {
        "colab": {
          "base_uri": "https://localhost:8080/"
        },
        "id": "X1b9lkCPmXr7",
        "outputId": "b66773c5-fe54-4ba0-fc7c-c85c2f9efd78"
      },
      "execution_count": 17,
      "outputs": [
        {
          "output_type": "execute_result",
          "data": {
            "text/plain": [
              "[5,\n",
              " 39,\n",
              " 22,\n",
              " 60,\n",
              " 6,\n",
              " 55,\n",
              " 7,\n",
              " 41,\n",
              " 35,\n",
              " 45,\n",
              " 40,\n",
              " 62,\n",
              " 14,\n",
              " 11,\n",
              " 23,\n",
              " 10,\n",
              " 54,\n",
              " 50,\n",
              " 43,\n",
              " 19,\n",
              " 2,\n",
              " 37,\n",
              " 1,\n",
              " 4,\n",
              " 56,\n",
              " 12,\n",
              " 42,\n",
              " 63,\n",
              " 16,\n",
              " 51,\n",
              " 9,\n",
              " 31,\n",
              " 64,\n",
              " 38,\n",
              " 3,\n",
              " 36,\n",
              " 47,\n",
              " 53,\n",
              " 15,\n",
              " 44,\n",
              " 21,\n",
              " 27,\n",
              " 59,\n",
              " 65,\n",
              " 26,\n",
              " 46,\n",
              " 24,\n",
              " 52,\n",
              " 48,\n",
              " 61,\n",
              " 29,\n",
              " 28,\n",
              " 25,\n",
              " 32,\n",
              " 17,\n",
              " 57,\n",
              " 33,\n",
              " 20,\n",
              " 66,\n",
              " 49,\n",
              " 58,\n",
              " 30,\n",
              " 18,\n",
              " 13,\n",
              " 34,\n",
              " 8]"
            ]
          },
          "metadata": {},
          "execution_count": 17
        }
      ]
    },
    {
      "cell_type": "code",
      "source": [
        "random.sample(sb, k = 5)"
      ],
      "metadata": {
        "colab": {
          "base_uri": "https://localhost:8080/"
        },
        "id": "hU2-0B90meYH",
        "outputId": "2a24b4c4-915b-4968-b46c-0b217ecaf22b"
      },
      "execution_count": 18,
      "outputs": [
        {
          "output_type": "execute_result",
          "data": {
            "text/plain": [
              "[10, 36, 20, 4, 66]"
            ]
          },
          "metadata": {},
          "execution_count": 18
        }
      ]
    },
    {
      "cell_type": "code",
      "source": [],
      "metadata": {
        "id": "OT7MSaommob8"
      },
      "execution_count": null,
      "outputs": []
    }
  ]
}