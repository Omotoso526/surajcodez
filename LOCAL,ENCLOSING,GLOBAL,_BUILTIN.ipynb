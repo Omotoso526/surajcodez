{
  "nbformat": 4,
  "nbformat_minor": 0,
  "metadata": {
    "colab": {
      "provenance": [],
      "authorship_tag": "ABX9TyOb1DA6r01cgH8MeqXpWVSz",
      "include_colab_link": true
    },
    "kernelspec": {
      "name": "python3",
      "display_name": "Python 3"
    },
    "language_info": {
      "name": "python"
    }
  },
  "cells": [
    {
      "cell_type": "markdown",
      "metadata": {
        "id": "view-in-github",
        "colab_type": "text"
      },
      "source": [
        "<a href=\"https://colab.research.google.com/github/Omotoso526/surajcodez/blob/main/LOCAL%2CENCLOSING%2CGLOBAL%2C_BUILTIN.ipynb\" target=\"_parent\"><img src=\"https://colab.research.google.com/assets/colab-badge.svg\" alt=\"Open In Colab\"/></a>"
      ]
    },
    {
      "cell_type": "code",
      "execution_count": null,
      "metadata": {
        "colab": {
          "base_uri": "https://localhost:8080/"
        },
        "id": "tXp0b09U0R7U",
        "outputId": "771bd46c-2db7-4106-c56f-0c49a79418bf"
      },
      "outputs": [
        {
          "output_type": "stream",
          "name": "stdout",
          "text": [
            "Writing my_module.py\n"
          ]
        }
      ],
      "source": [
        "%%writefile my_module.py\n",
        "print('Import my_module...')\n",
        "\n",
        "test = 'Test_String'\n",
        "\n",
        "def find_index(to_search, target):\n",
        "  for i, value in enumerate(to_search):\n",
        "    if value == target:\n",
        "      return i\n",
        "\n",
        "  return -1\n"
      ]
    },
    {
      "cell_type": "code",
      "source": [
        "import my_module\n",
        "courses = ['History', 'Math', 'Chemistry', 'Eng']\n",
        "\n",
        "index = my_module.find_index(courses, 'Eng')\n",
        "\n",
        "index"
      ],
      "metadata": {
        "colab": {
          "base_uri": "https://localhost:8080/"
        },
        "id": "Lb4L0qRf3yxD",
        "outputId": "88dc9a15-b9a6-4e40-d83b-26d25cd739cf"
      },
      "execution_count": null,
      "outputs": [
        {
          "output_type": "execute_result",
          "data": {
            "text/plain": [
              "3"
            ]
          },
          "metadata": {},
          "execution_count": 4
        }
      ]
    },
    {
      "cell_type": "code",
      "source": [
        "#random\n",
        "\n",
        "import random\n",
        "\n",
        "courses = ['History', 'Math', 'Chemistry']\n",
        "\n",
        "random.choice(courses)"
      ],
      "metadata": {
        "colab": {
          "base_uri": "https://localhost:8080/",
          "height": 35
        },
        "id": "ZoHH-NC64d2y",
        "outputId": "54399f7d-f48c-42a6-bdda-ad776274b600"
      },
      "execution_count": null,
      "outputs": [
        {
          "output_type": "execute_result",
          "data": {
            "text/plain": [
              "'History'"
            ],
            "application/vnd.google.colaboratory.intrinsic+json": {
              "type": "string"
            }
          },
          "metadata": {},
          "execution_count": 6
        }
      ]
    },
    {
      "cell_type": "code",
      "source": [
        "#math\n",
        "\n",
        "import math\n",
        "\n",
        "rads = math.radians(90)\n",
        "\n",
        "rads"
      ],
      "metadata": {
        "colab": {
          "base_uri": "https://localhost:8080/"
        },
        "id": "Je7PbO8nDkd-",
        "outputId": "a60b46d5-6fe7-4912-904e-518492e3a7d6"
      },
      "execution_count": null,
      "outputs": [
        {
          "output_type": "execute_result",
          "data": {
            "text/plain": [
              "1.5707963267948966"
            ]
          },
          "metadata": {},
          "execution_count": 7
        }
      ]
    },
    {
      "cell_type": "code",
      "source": [
        "import datetime\n",
        "import calendar\n",
        "\n",
        "today = datetime.date.today()\n",
        "today"
      ],
      "metadata": {
        "colab": {
          "base_uri": "https://localhost:8080/"
        },
        "id": "9_eJFzw8D34C",
        "outputId": "f74511d2-90fe-4185-87a3-8dc827c870ab"
      },
      "execution_count": null,
      "outputs": [
        {
          "output_type": "execute_result",
          "data": {
            "text/plain": [
              "datetime.date(2025, 6, 20)"
            ]
          },
          "metadata": {},
          "execution_count": 9
        }
      ]
    },
    {
      "cell_type": "code",
      "source": [
        "calendar.isleap(2023)"
      ],
      "metadata": {
        "colab": {
          "base_uri": "https://localhost:8080/"
        },
        "id": "Gs66DBIBEb9C",
        "outputId": "d66e601f-2620-4f88-9c68-0da5d27a94fc"
      },
      "execution_count": null,
      "outputs": [
        {
          "output_type": "execute_result",
          "data": {
            "text/plain": [
              "False"
            ]
          },
          "metadata": {},
          "execution_count": 10
        }
      ]
    },
    {
      "cell_type": "code",
      "source": [
        "x = \"global_x\"\n",
        "\n",
        "def test():\n",
        "  y = 'local y'\n",
        "  print(x)\n",
        "\n",
        "test()"
      ],
      "metadata": {
        "colab": {
          "base_uri": "https://localhost:8080/"
        },
        "id": "JcFMVYkMEkdC",
        "outputId": "6b632dc6-da60-4353-8f9c-9824ff62b703"
      },
      "execution_count": null,
      "outputs": [
        {
          "output_type": "stream",
          "name": "stdout",
          "text": [
            "global_x\n"
          ]
        }
      ]
    },
    {
      "cell_type": "code",
      "source": [
        "x = \"global\"\n",
        "\n",
        "def my_func():\n",
        "    x = \"local\"\n",
        "    print(\"Inside function:\", x)\n",
        "\n",
        "my_func()\n",
        "print(\"Outside function:\", x)\n"
      ],
      "metadata": {
        "colab": {
          "base_uri": "https://localhost:8080/"
        },
        "id": "rF2_uwSds5gd",
        "outputId": "018b1c01-4e78-4642-c83f-4bb7e4ea26e2"
      },
      "execution_count": null,
      "outputs": [
        {
          "output_type": "stream",
          "name": "stdout",
          "text": [
            "Inside function: local\n",
            "Outside function: global\n"
          ]
        }
      ]
    },
    {
      "cell_type": "code",
      "source": [
        "def outer():\n",
        "    x = \"enclosing\"\n",
        "\n",
        "    def inner():\n",
        "        x = 'local'\n",
        "        print(\"Inner sees:\", x)\n",
        "\n",
        "    inner()\n",
        "\n",
        "outer()\n"
      ],
      "metadata": {
        "colab": {
          "base_uri": "https://localhost:8080/"
        },
        "id": "Zg94FF2Lua3d",
        "outputId": "c6c7658d-bec5-4275-ea2f-3b10fe156b96"
      },
      "execution_count": null,
      "outputs": [
        {
          "output_type": "stream",
          "name": "stdout",
          "text": [
            "Inner sees: local\n"
          ]
        }
      ]
    },
    {
      "cell_type": "code",
      "source": [
        "def maximum(numbers):\n",
        "    return \"Oops! Shadowed built-in\"\n",
        "\n",
        "print(maximum([1, 2, 3]))  # What happens here?\n",
        "print(maximum([1, 2, 3]))  # What happens here?\n"
      ],
      "metadata": {
        "colab": {
          "base_uri": "https://localhost:8080/"
        },
        "id": "G8C8po8zvTSL",
        "outputId": "f3ecc5f6-86af-400f-a866-ac17ad7a75ad"
      },
      "execution_count": null,
      "outputs": [
        {
          "output_type": "stream",
          "name": "stdout",
          "text": [
            "Oops! Shadowed built-in\n",
            "Oops! Shadowed built-in\n"
          ]
        }
      ]
    },
    {
      "cell_type": "code",
      "source": [],
      "metadata": {
        "id": "R92qliMyvoo6"
      },
      "execution_count": null,
      "outputs": []
    },
    {
      "cell_type": "code",
      "source": [],
      "metadata": {
        "id": "XmQp3CnvwUPI"
      },
      "execution_count": null,
      "outputs": []
    }
  ]
}